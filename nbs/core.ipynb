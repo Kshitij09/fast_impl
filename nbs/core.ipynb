{
 "cells": [
  {
   "cell_type": "code",
   "execution_count": null,
   "metadata": {},
   "outputs": [],
   "source": [
    "#default_exp core"
   ]
  },
  {
   "cell_type": "markdown",
   "metadata": {},
   "source": [
    "# Core\n",
    "> Core utility functions used in the library"
   ]
  },
  {
   "cell_type": "code",
   "execution_count": null,
   "metadata": {},
   "outputs": [],
   "source": [
    "#export\n",
    "from fastai2.vision.all import *"
   ]
  },
  {
   "cell_type": "code",
   "execution_count": null,
   "metadata": {},
   "outputs": [],
   "source": [
    "#export\n",
    "def _is_sequential(o): return o.__class__.__name__=='Sequential'\n",
    "def _is_fn(o): return isinstance(o,(types.FunctionType, functools.partial))"
   ]
  },
  {
   "cell_type": "code",
   "execution_count": null,
   "metadata": {},
   "outputs": [],
   "source": [
    "#export\n",
    "def get_module(o,i):\n",
    "    \"Recursively get the module from list of indices\"\n",
    "    o = o(False) if _is_fn(o) else o\n",
    "    if is_listy(i):\n",
    "        m = get_module(o,i[0])\n",
    "        if len(i)==1: return m\n",
    "        return get_module(m,i[1:])\n",
    "    assert i < len(list(o.children())), f\"IndexError: {i} is out of bounds\"\n",
    "    return o[i] if is_listy(o) else list(o.children())[i]"
   ]
  },
  {
   "cell_type": "markdown",
   "metadata": {},
   "source": [
    "Most of the times, we want to extract nested module in architecture; while some modules support indexing (Sequential), some don't. This function enables you to access nested modules in a numpy-like indexing. When coupled with `arch_summary`, we can effortlessly explore the pytorch models."
   ]
  },
  {
   "cell_type": "code",
   "execution_count": null,
   "metadata": {},
   "outputs": [],
   "source": [
    "#export\n",
    "def arch_summary(arch,idx=None,verbose=False):\n",
    "  \"Short architecture summary, used for holistic understanding and deciding parameter groups\"\n",
    "  model = arch(False) if _is_fn(arch) else arch\n",
    "  if idx is not None:\n",
    "    model = get_module(model,idx)\n",
    "  for i,(n,l) in enumerate(model.named_children()):\n",
    "      n_layers = len(l if _is_sequential(l) else flatten_model(l))\n",
    "      pre = f'[{n:<2}]' if n.isdigit() else f'[{i:<2}] {\"(\"+n+\")\":<10}'\n",
    "      print(f'{pre} {l.__class__.__name__:<17}: {n_layers:<3} layers')\n",
    "      if verbose and l.has_children:\n",
    "        layers = [x.__class__.__name__ for x in l.children()]\n",
    "        for il in layers:\n",
    "          print(\" \"*(5 + (15 if not n.isdigit() else 0)),il)"
   ]
  },
  {
   "cell_type": "code",
   "execution_count": null,
   "metadata": {},
   "outputs": [],
   "source": [
    "from torchvision.models import shufflenet_v2_x1_0, resnet50"
   ]
  },
  {
   "cell_type": "markdown",
   "metadata": {},
   "source": [
    "## Examples"
   ]
  },
  {
   "cell_type": "markdown",
   "metadata": {},
   "source": [
    "`arch_summary` can handle named as well as simple Sequential modules with different behavior. Indices could be used to quickly navigate the architecture, module names are also introduced in summary if available. `xresnet50` is the architecture defined in `fastai2` and is extending `Sequential`"
   ]
  },
  {
   "cell_type": "code",
   "execution_count": null,
   "metadata": {},
   "outputs": [
    {
     "name": "stdout",
     "output_type": "stream",
     "text": [
      "[0 ] ConvLayer        : 3   layers\n",
      "[1 ] ConvLayer        : 3   layers\n",
      "[2 ] ConvLayer        : 3   layers\n",
      "[3 ] MaxPool2d        : 1   layers\n",
      "[4 ] Sequential       : 3   layers\n",
      "[5 ] Sequential       : 4   layers\n",
      "[6 ] Sequential       : 6   layers\n",
      "[7 ] Sequential       : 3   layers\n",
      "[8 ] AdaptiveAvgPool2d: 1   layers\n",
      "[9 ] Flatten          : 1   layers\n",
      "[10] Dropout          : 1   layers\n",
      "[11] Linear           : 1   layers\n"
     ]
    }
   ],
   "source": [
    "arch_summary(xresnet50)"
   ]
  },
  {
   "cell_type": "markdown",
   "metadata": {},
   "source": [
    "`get_module` could be used to extract a specific module nested deep within hierarchy."
   ]
  },
  {
   "cell_type": "code",
   "execution_count": null,
   "metadata": {},
   "outputs": [
    {
     "data": {
      "text/plain": [
       "ResBlock(\n",
       "  (convpath): Sequential(\n",
       "    (0): ConvLayer(\n",
       "      (0): Conv2d(64, 64, kernel_size=(1, 1), stride=(1, 1), bias=False)\n",
       "      (1): BatchNorm2d(64, eps=1e-05, momentum=0.1, affine=True, track_running_stats=True)\n",
       "      (2): ReLU()\n",
       "    )\n",
       "    (1): ConvLayer(\n",
       "      (0): Conv2d(64, 64, kernel_size=(3, 3), stride=(1, 1), padding=(1, 1), bias=False)\n",
       "      (1): BatchNorm2d(64, eps=1e-05, momentum=0.1, affine=True, track_running_stats=True)\n",
       "      (2): ReLU()\n",
       "    )\n",
       "    (2): ConvLayer(\n",
       "      (0): Conv2d(64, 256, kernel_size=(1, 1), stride=(1, 1), bias=False)\n",
       "      (1): BatchNorm2d(256, eps=1e-05, momentum=0.1, affine=True, track_running_stats=True)\n",
       "    )\n",
       "  )\n",
       "  (idpath): Sequential(\n",
       "    (0): ConvLayer(\n",
       "      (0): Conv2d(64, 256, kernel_size=(1, 1), stride=(1, 1), bias=False)\n",
       "      (1): BatchNorm2d(256, eps=1e-05, momentum=0.1, affine=True, track_running_stats=True)\n",
       "    )\n",
       "  )\n",
       "  (act): ReLU(inplace=True)\n",
       ")"
      ]
     },
     "execution_count": null,
     "metadata": {},
     "output_type": "execute_result"
    }
   ],
   "source": [
    "get_module(xresnet50,[4,0])"
   ]
  },
  {
   "cell_type": "markdown",
   "metadata": {},
   "source": [
    "And if you really want to go deeper, you may set `verbose=True` and `arch_summary` will go 2 depth down. For the simplicity, I'm keeping it to the depth of 2, since you can always have a detailed summary using `fastai2`'s patched summary method on module"
   ]
  },
  {
   "cell_type": "code",
   "execution_count": null,
   "metadata": {},
   "outputs": [
    {
     "name": "stdout",
     "output_type": "stream",
     "text": [
      "[0 ] ConvLayer        : 3   layers\n",
      "      Conv2d\n",
      "      BatchNorm2d\n",
      "      ReLU\n",
      "[1 ] ConvLayer        : 3   layers\n",
      "      Conv2d\n",
      "      BatchNorm2d\n",
      "      ReLU\n",
      "[2 ] ConvLayer        : 3   layers\n",
      "      Conv2d\n",
      "      BatchNorm2d\n",
      "      ReLU\n",
      "[3 ] MaxPool2d        : 1   layers\n",
      "[4 ] Sequential       : 3   layers\n",
      "      ResBlock\n",
      "      ResBlock\n",
      "      ResBlock\n",
      "[5 ] Sequential       : 4   layers\n",
      "      ResBlock\n",
      "      ResBlock\n",
      "      ResBlock\n",
      "      ResBlock\n",
      "[6 ] Sequential       : 6   layers\n",
      "      ResBlock\n",
      "      ResBlock\n",
      "      ResBlock\n",
      "      ResBlock\n",
      "      ResBlock\n",
      "      ResBlock\n",
      "[7 ] Sequential       : 3   layers\n",
      "      ResBlock\n",
      "      ResBlock\n",
      "      ResBlock\n",
      "[8 ] AdaptiveAvgPool2d: 1   layers\n",
      "[9 ] Flatten          : 1   layers\n",
      "[10] Dropout          : 1   layers\n",
      "[11] Linear           : 1   layers\n"
     ]
    }
   ],
   "source": [
    "arch_summary(xresnet50,verbose=True)"
   ]
  },
  {
   "cell_type": "markdown",
   "metadata": {},
   "source": [
    "Now let's quickly review a named_module architecture and how `arch_summary` handles that information"
   ]
  },
  {
   "cell_type": "code",
   "execution_count": null,
   "metadata": {},
   "outputs": [
    {
     "name": "stdout",
     "output_type": "stream",
     "text": [
      "[0 ] (conv1)    Sequential       : 3   layers\n",
      "[1 ] (maxpool)  MaxPool2d        : 1   layers\n",
      "[2 ] (stage2)   Sequential       : 4   layers\n",
      "[3 ] (stage3)   Sequential       : 8   layers\n",
      "[4 ] (stage4)   Sequential       : 4   layers\n",
      "[5 ] (conv5)    Sequential       : 3   layers\n",
      "[6 ] (fc)       Linear           : 1   layers\n"
     ]
    }
   ],
   "source": [
    "arch_summary(shufflenet_v2_x1_0)"
   ]
  },
  {
   "cell_type": "markdown",
   "metadata": {},
   "source": [
    "Refer [arch_explore](./01_tutorial.arch_explore.ipynb) for more examples"
   ]
  }
 ],
 "metadata": {
  "kernelspec": {
   "display_name": "Python 3.7.6 64-bit ('fastai2': conda)",
   "language": "python",
   "name": "python37664bitfastai2condaf3e9781124be45a78083b472977e8c5c"
  }
 },
 "nbformat": 4,
 "nbformat_minor": 4
}
