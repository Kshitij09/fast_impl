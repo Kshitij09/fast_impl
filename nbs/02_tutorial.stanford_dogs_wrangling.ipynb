{
 "cells": [
  {
   "cell_type": "markdown",
   "metadata": {},
   "source": [
    "# Tutorial - Data Wrangling with fastai2\n",
    "\n",
    "> In this tutorial, we'll work on 'Stanford-Dogs' Dataset which is a subset of Imagenet, considered for fine-grained classification. We'll work on extracting labels from path, transforming it to breed names for understandability and performing train/val/test splits\n",
    "\n",
    "**Stratified K-Fold** is performed on train set and the csv files are\n",
    "\n",
    "<a href=\"https://colab.research.google.com/github/Kshitij09/fast_impl/blob/master/nbs/02_tutorial.stanford_dogs_wrangling.ipynb\"><img src=\"colab.svg\"></img></a>"
   ]
  },
  {
   "cell_type": "markdown",
   "metadata": {},
   "source": [
    "# Download and set up dataset\n",
    "\n",
    "I'll be using Kaggle [dataset](https://www.kaggle.com/jessicali9530/stanford-dogs-dataset/data) for the same. You should have Kaggle's CLI installed and put your kaggle.json file in `~/.kaggle` directory (or `/root/.kaggle` if on colab)."
   ]
  },
  {
   "cell_type": "code",
   "execution_count": null,
   "metadata": {},
   "outputs": [],
   "source": [
    "#hide\n",
    "!chmod 600 kaggle.json &&\\\n",
    " mkdir /root/.kaggle &&\\\n",
    " mv kaggle.json /root/.kaggle"
   ]
  },
  {
   "cell_type": "code",
   "execution_count": null,
   "metadata": {},
   "outputs": [
    {
     "name": "stdout",
     "output_type": "stream",
     "text": [
      "Downloading stanford-dogs-dataset.zip to data\n",
      " 98% 737M/750M [00:09<00:00, 79.2MB/s]\n",
      "100% 750M/750M [00:09<00:00, 80.3MB/s]\n"
     ]
    }
   ],
   "source": [
    "!kaggle datasets download -d jessicali9530/stanford-dogs-dataset -p data\n",
    "!cd data && mkdir stanford-dogs &&\\\n",
    " unzip -qq stanford-dogs-dataset.zip -d stanford-dogs &&\\\n",
    " rm -rf stanford-dogs-dataset.zip"
   ]
  },
  {
   "cell_type": "code",
   "execution_count": null,
   "metadata": {},
   "outputs": [],
   "source": [
    "# Removing unnecessary hierarchy\n",
    "%cd data\n",
    "!mv stanford-dogs/annotations/Annotation stanford-dogs/images/Images stanford-dogs\n",
    "!rm -rf stanford-dogs/annotations stanford-dogs/images\n",
    "%cd /content"
   ]
  },
  {
   "cell_type": "code",
   "execution_count": null,
   "metadata": {},
   "outputs": [],
   "source": [
    "# train/test splits\n",
    "!wget http://vision.stanford.edu/aditya86/ImageNetDogs/lists.tar \n",
    "!tar -xf lists.tar test_list.mat && rm -rf lists.tar"
   ]
  },
  {
   "cell_type": "markdown",
   "metadata": {},
   "source": [
    "# Explore Dataset\n",
    "\n",
    "Goal of this section is to figure out way to label the images with breed names, splitting dataset into train/test and applying K-fold on train set.\n",
    "\n",
    "Expected distribution at the end:\n",
    "\n",
    "Train: 9000\n",
    "\n",
    "Val: 3000\n",
    "\n",
    "Test: 8000\n"
   ]
  },
  {
   "cell_type": "code",
   "execution_count": null,
   "metadata": {},
   "outputs": [],
   "source": [
    "from fastai2.vision.all import *\n",
    "from fastai2.data.all import *\n",
    "from fastprogress import progress_bar"
   ]
  },
  {
   "cell_type": "code",
   "execution_count": null,
   "metadata": {},
   "outputs": [],
   "source": [
    "from scipy.io import loadmat\n",
    "test_list = loadmat('test_list.mat'); \n",
    "\n",
    "base = Path('data/stanford-dogs/Images')\n",
    "test_fns =[base/l[0][0] for l in test_list['file_list']]\n",
    "path = Path('data/stanford-dogs')\n",
    "fnames = get_image_files(path/'Images'); fnames[:5]"
   ]
  },
  {
   "cell_type": "markdown",
   "metadata": {},
   "source": [
    "Keeping test images aside for benchmark, will split train set into train/val"
   ]
  },
  {
   "cell_type": "code",
   "execution_count": null,
   "metadata": {},
   "outputs": [],
   "source": [
    "train_fns = list(set(fnames) - set(test_fns))"
   ]
  },
  {
   "cell_type": "markdown",
   "metadata": {},
   "source": [
    "## Stratified KFold"
   ]
  },
  {
   "cell_type": "markdown",
   "metadata": {},
   "source": [
    "Following steps are performed:\n",
    "1. From all the directory names, we build a `vocab` of classes involved\n",
    "1. Then we pass this `vocab` to `CategoryMap` to get `o2i` mapping\n",
    "1. A Pipeline written to go from full path to its `label` (integer)\n",
    "1. Procedding with StratifiedKFold where `X` is the file names and `y` is repective integer label"
   ]
  },
  {
   "cell_type": "code",
   "execution_count": null,
   "metadata": {},
   "outputs": [
    {
     "data": {
      "text/plain": [
       "['n02098105', 'soft-coated_wheaten_terrier']"
      ]
     },
     "execution_count": null,
     "metadata": {
      "tags": []
     },
     "output_type": "execute_result"
    }
   ],
   "source": [
    "# split on '-' for once, 1st part will be key and 2nd value\n",
    "re.split(r'-',\"n02098105-soft-coated_wheaten_terrier\",maxsplit=1)"
   ]
  },
  {
   "cell_type": "code",
   "execution_count": null,
   "metadata": {},
   "outputs": [
    {
     "data": {
      "text/plain": [
       "'soft-coated_wheaten_terrier'"
      ]
     },
     "execution_count": null,
     "metadata": {
      "tags": []
     },
     "output_type": "execute_result"
    }
   ],
   "source": [
    "impath = path/'Images'; \n",
    "dirs = L(impath.ls()).map(attrgetter('name')); \n",
    "\n",
    "id2label = defaultdict()\n",
    "for d in dirs:\n",
    "  k,v = re.split(r'-',d,maxsplit=1)\n",
    "  id2label[k]=v\n",
    "\n",
    "id2label[\"n02098105\"]"
   ]
  },
  {
   "cell_type": "code",
   "execution_count": null,
   "metadata": {},
   "outputs": [
    {
     "data": {
      "text/plain": [
       "(#120) ['n02111277','n02097130','n02105251','n02110063','n02085936','n02115641','n02112018','n02099601','n02092002','n02098286'...]"
      ]
     },
     "execution_count": null,
     "metadata": {
      "tags": []
     },
     "output_type": "execute_result"
    }
   ],
   "source": [
    "def get_lbl(o): return re.split(r'-',str(o),maxsplit=1)[0]\n",
    "vocab = dirs.map(get_lbl); vocab"
   ]
  },
  {
   "cell_type": "code",
   "execution_count": null,
   "metadata": {},
   "outputs": [],
   "source": [
    "catm = CategoryMap(vocab,sort=False) \n",
    "# to check the mapping\n",
    "#print(catm.o2i)"
   ]
  },
  {
   "cell_type": "code",
   "execution_count": null,
   "metadata": {},
   "outputs": [
    {
     "data": {
      "text/plain": [
       "(Path('data/stanford-dogs/Images/n02092002-Scottish_deerhound/n02092002_6114.jpg'),\n",
       " 8,\n",
       " 'n02092002')"
      ]
     },
     "execution_count": null,
     "metadata": {
      "tags": []
     },
     "output_type": "execute_result"
    }
   ],
   "source": [
    "X = array(train_fns)\n",
    "ypipe = Pipeline([RegexLabeller(r'/(\\w+)_\\d+.jpg$'), catm.o2i.__getitem__])\n",
    "y = array(L(train_fns).map(ypipe))\n",
    "X[0], y[0], catm[y[0]]"
   ]
  },
  {
   "cell_type": "markdown",
   "metadata": {},
   "source": [
    "`ypipe` transforms filepath to index while `catm` transforms indices back to labels (class_id)"
   ]
  },
  {
   "cell_type": "markdown",
   "metadata": {},
   "source": [
    "## Labelling"
   ]
  },
  {
   "cell_type": "markdown",
   "metadata": {},
   "source": [
    "We'll group a part between '/' and '_' (at the end of string). This will give us imagenet id for that class, We can use `id2label` created earlier to map those ids to breed names"
   ]
  },
  {
   "cell_type": "code",
   "execution_count": null,
   "metadata": {},
   "outputs": [
    {
     "name": "stdout",
     "output_type": "stream",
     "text": [
      "Path: data/stanford-dogs/Images/n02110063-malamute/n02110063_16539.jpg\n",
      "Label: n02110063\n",
      "Breed: malamute\n"
     ]
    }
   ],
   "source": [
    "pat = re.compile(r\"/(\\w+)_\\d+.jpg$\")\n",
    "res = pat.search(str(train_fns[105]))\n",
    "print(f\"Path: {train_fns[105]}\\nLabel: {res.group(1)}\\nBreed: {id2label[res.group(1)]}\")"
   ]
  },
  {
   "cell_type": "markdown",
   "metadata": {},
   "source": [
    "A csv would be great way to represent all the details associated with each example, including its fold_idx"
   ]
  },
  {
   "cell_type": "code",
   "execution_count": null,
   "metadata": {},
   "outputs": [
    {
     "data": {
      "text/plain": [
       "'Newfoundland'"
      ]
     },
     "execution_count": null,
     "metadata": {
      "tags": []
     },
     "output_type": "execute_result"
    }
   ],
   "source": [
    "labeller = RegexLabeller(r\"/(\\w+)_\\d+.jpg$\")\n",
    "lbl_pipe = Pipeline([labeller, id2label.__getitem__])\n",
    "lbl_pipe(fnames[10])"
   ]
  },
  {
   "cell_type": "code",
   "execution_count": null,
   "metadata": {},
   "outputs": [],
   "source": [
    "labels = L(train_fns).map(lbl_pipe)\n",
    "class_ids = L(train_fns).map(labeller)"
   ]
  },
  {
   "cell_type": "markdown",
   "metadata": {},
   "source": [
    "Now we have everything needed to create a csv file with Stratified k-folds."
   ]
  },
  {
   "cell_type": "code",
   "execution_count": null,
   "metadata": {},
   "outputs": [
    {
     "data": {
      "text/html": [
       "<div>\n",
       "<style scoped>\n",
       "    .dataframe tbody tr th:only-of-type {\n",
       "        vertical-align: middle;\n",
       "    }\n",
       "\n",
       "    .dataframe tbody tr th {\n",
       "        vertical-align: top;\n",
       "    }\n",
       "\n",
       "    .dataframe thead th {\n",
       "        text-align: right;\n",
       "    }\n",
       "</style>\n",
       "<table border=\"1\" class=\"dataframe\">\n",
       "  <thead>\n",
       "    <tr style=\"text-align: right;\">\n",
       "      <th></th>\n",
       "      <th>image_path</th>\n",
       "      <th>class_id</th>\n",
       "      <th>label</th>\n",
       "      <th>fold</th>\n",
       "    </tr>\n",
       "  </thead>\n",
       "  <tbody>\n",
       "    <tr>\n",
       "      <th>0</th>\n",
       "      <td>data/stanford-dogs/Images/n02092002-Scottish_deerhound/n02092002_6114.jpg</td>\n",
       "      <td>n02092002</td>\n",
       "      <td>Scottish_deerhound</td>\n",
       "      <td>0</td>\n",
       "    </tr>\n",
       "    <tr>\n",
       "      <th>1</th>\n",
       "      <td>data/stanford-dogs/Images/n02092339-Weimaraner/n02092339_514.jpg</td>\n",
       "      <td>n02092339</td>\n",
       "      <td>Weimaraner</td>\n",
       "      <td>3</td>\n",
       "    </tr>\n",
       "    <tr>\n",
       "      <th>2</th>\n",
       "      <td>data/stanford-dogs/Images/n02096437-Dandie_Dinmont/n02096437_2267.jpg</td>\n",
       "      <td>n02096437</td>\n",
       "      <td>Dandie_Dinmont</td>\n",
       "      <td>3</td>\n",
       "    </tr>\n",
       "    <tr>\n",
       "      <th>3</th>\n",
       "      <td>data/stanford-dogs/Images/n02107683-Bernese_mountain_dog/n02107683_4016.jpg</td>\n",
       "      <td>n02107683</td>\n",
       "      <td>Bernese_mountain_dog</td>\n",
       "      <td>3</td>\n",
       "    </tr>\n",
       "    <tr>\n",
       "      <th>4</th>\n",
       "      <td>data/stanford-dogs/Images/n02111277-Newfoundland/n02111277_14330.jpg</td>\n",
       "      <td>n02111277</td>\n",
       "      <td>Newfoundland</td>\n",
       "      <td>2</td>\n",
       "    </tr>\n",
       "  </tbody>\n",
       "</table>\n",
       "</div>"
      ],
      "text/plain": [
       "                                                                    image_path  ... fold\n",
       "0    data/stanford-dogs/Images/n02092002-Scottish_deerhound/n02092002_6114.jpg  ...    0\n",
       "1             data/stanford-dogs/Images/n02092339-Weimaraner/n02092339_514.jpg  ...    3\n",
       "2        data/stanford-dogs/Images/n02096437-Dandie_Dinmont/n02096437_2267.jpg  ...    3\n",
       "3  data/stanford-dogs/Images/n02107683-Bernese_mountain_dog/n02107683_4016.jpg  ...    3\n",
       "4         data/stanford-dogs/Images/n02111277-Newfoundland/n02111277_14330.jpg  ...    2\n",
       "\n",
       "[5 rows x 4 columns]"
      ]
     },
     "execution_count": null,
     "metadata": {
      "tags": []
     },
     "output_type": "execute_result"
    }
   ],
   "source": [
    "from sklearn.model_selection import StratifiedKFold\n",
    "skf = StratifiedKFold(n_splits=4,shuffle=True,random_state=47)\n",
    "df = pd.DataFrame({'image_path': train_fns, \n",
    "                   'class_id': list(class_ids),\n",
    "                   'label': list(labels)})\n",
    "df['fold'] = -1\n",
    "for i, (_, val_idx) in enumerate(skf.split(X,y)): \n",
    "  df.loc[val_idx,'fold'] = i\n",
    "df.head()"
   ]
  },
  {
   "cell_type": "code",
   "execution_count": null,
   "metadata": {},
   "outputs": [],
   "source": [
    "df.to_csv('train.csv')"
   ]
  },
  {
   "cell_type": "code",
   "execution_count": null,
   "metadata": {},
   "outputs": [
    {
     "data": {
      "text/html": [
       "<div>\n",
       "<style scoped>\n",
       "    .dataframe tbody tr th:only-of-type {\n",
       "        vertical-align: middle;\n",
       "    }\n",
       "\n",
       "    .dataframe tbody tr th {\n",
       "        vertical-align: top;\n",
       "    }\n",
       "\n",
       "    .dataframe thead th {\n",
       "        text-align: right;\n",
       "    }\n",
       "</style>\n",
       "<table border=\"1\" class=\"dataframe\">\n",
       "  <thead>\n",
       "    <tr style=\"text-align: right;\">\n",
       "      <th></th>\n",
       "      <th>image_path</th>\n",
       "      <th>class_id</th>\n",
       "      <th>label</th>\n",
       "      <th>y</th>\n",
       "    </tr>\n",
       "  </thead>\n",
       "  <tbody>\n",
       "    <tr>\n",
       "      <th>0</th>\n",
       "      <td>data/stanford-dogs/Images/n02085620-Chihuahua/n02085620_2650.jpg</td>\n",
       "      <td>n02085620</td>\n",
       "      <td>Chihuahua</td>\n",
       "      <td>24</td>\n",
       "    </tr>\n",
       "    <tr>\n",
       "      <th>1</th>\n",
       "      <td>data/stanford-dogs/Images/n02085620-Chihuahua/n02085620_4919.jpg</td>\n",
       "      <td>n02085620</td>\n",
       "      <td>Chihuahua</td>\n",
       "      <td>24</td>\n",
       "    </tr>\n",
       "    <tr>\n",
       "      <th>2</th>\n",
       "      <td>data/stanford-dogs/Images/n02085620-Chihuahua/n02085620_1765.jpg</td>\n",
       "      <td>n02085620</td>\n",
       "      <td>Chihuahua</td>\n",
       "      <td>24</td>\n",
       "    </tr>\n",
       "    <tr>\n",
       "      <th>3</th>\n",
       "      <td>data/stanford-dogs/Images/n02085620-Chihuahua/n02085620_3006.jpg</td>\n",
       "      <td>n02085620</td>\n",
       "      <td>Chihuahua</td>\n",
       "      <td>24</td>\n",
       "    </tr>\n",
       "    <tr>\n",
       "      <th>4</th>\n",
       "      <td>data/stanford-dogs/Images/n02085620-Chihuahua/n02085620_1492.jpg</td>\n",
       "      <td>n02085620</td>\n",
       "      <td>Chihuahua</td>\n",
       "      <td>24</td>\n",
       "    </tr>\n",
       "  </tbody>\n",
       "</table>\n",
       "</div>"
      ],
      "text/plain": [
       "                                                         image_path  ...   y\n",
       "0  data/stanford-dogs/Images/n02085620-Chihuahua/n02085620_2650.jpg  ...  24\n",
       "1  data/stanford-dogs/Images/n02085620-Chihuahua/n02085620_4919.jpg  ...  24\n",
       "2  data/stanford-dogs/Images/n02085620-Chihuahua/n02085620_1765.jpg  ...  24\n",
       "3  data/stanford-dogs/Images/n02085620-Chihuahua/n02085620_3006.jpg  ...  24\n",
       "4  data/stanford-dogs/Images/n02085620-Chihuahua/n02085620_1492.jpg  ...  24\n",
       "\n",
       "[5 rows x 4 columns]"
      ]
     },
     "execution_count": null,
     "metadata": {
      "tags": []
     },
     "output_type": "execute_result"
    }
   ],
   "source": [
    "test_lbls = L(test_fns).map(lbl_pipe)\n",
    "test_y = L(test_fns).map(ypipe)\n",
    "test_cls_ids = L(test_fns).map(labeller)\n",
    "test_df = pd.DataFrame({'image_path': test_fns,\n",
    "                        'class_id': list(test_cls_ids),\n",
    "                        'label': list(test_lbls),\n",
    "                        'y': list(test_y)})\n",
    "test_df.head()"
   ]
  },
  {
   "cell_type": "code",
   "execution_count": null,
   "metadata": {},
   "outputs": [],
   "source": [
    "test_df.to_csv('test.csv')"
   ]
  },
  {
   "cell_type": "markdown",
   "metadata": {},
   "source": [
    "At this point, you have two csv files:\n",
    "1. train.csv: Labelled and Stratified K Fold on training examples (12000)\n",
    "1. test.csv: Test dataset from given test file names"
   ]
  },
  {
   "cell_type": "code",
   "execution_count": null,
   "metadata": {},
   "outputs": [],
   "source": []
  }
 ],
 "metadata": {
  "kernelspec": {
   "display_name": "Python 3",
   "language": "python",
   "name": "python3"
  }
 },
 "nbformat": 4,
 "nbformat_minor": 4
}
