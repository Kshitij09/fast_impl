{
 "cells": [
  {
   "cell_type": "code",
   "execution_count": null,
   "metadata": {},
   "outputs": [],
   "source": [
    "#default_exp core"
   ]
  },
  {
   "cell_type": "code",
   "execution_count": null,
   "metadata": {},
   "outputs": [],
   "source": [
    "#export\n",
    "from fastai2.vision.all import *"
   ]
  },
  {
   "cell_type": "markdown",
   "metadata": {},
   "source": [
    "`arch_summary` function plays major role while deciding parameter groups for discriminative learning. It gives a brief summary of architecture and is independant of input being passed. Thus we could use this function to assess the correctness of architecture before passing it to learner. We'll briefly explore various vision models from torchvision and [pytorch-image-models](https://github.com/rwightman/pytorch-image-models) to understand the use of `arch_summary`"
   ]
  },
  {
   "cell_type": "code",
   "execution_count": null,
   "metadata": {},
   "outputs": [],
   "source": [
    "try:\n",
    "  import timm\n",
    "except ImportError:\n",
    "  from pip._internal import main as pip\n",
    "  pip.main(['install','--user','timm'])\n",
    "  import timm"
   ]
  },
  {
   "cell_type": "code",
   "execution_count": null,
   "metadata": {},
   "outputs": [],
   "source": [
    "#export\n",
    "def _is_sequential(o): return o.__class__.__name__=='Sequential'\n",
    "def _is_fn(o): return type(o)==types.FunctionType\n",
    "\n",
    "def get_module(o,i):\n",
    "  \"Recursively get the module from list of indices\"\n",
    "  if is_listy(i):\n",
    "    m = get_module(o,i[0])\n",
    "    if len(i)==1: return m\n",
    "    return get_module(m,i[1:])\n",
    "  return o[i] if is_listy(o) else list(o.children())[i]\n",
    "\n",
    "def arch_summary(arch,idx=None,verbose=False):\n",
    "  \"Short architecture summary, used for holistic understanding and deciding parameter groups\"\n",
    "  model = arch(False) if _is_fn(arch) else arch\n",
    "  if idx is not None:\n",
    "    model = get_module(model,idx)\n",
    "  for i, l in enumerate(model.children()):\n",
    "      n_layers = len(l if _is_sequential(l) else flatten_model(l))\n",
    "      print(f'({i:<2}) {l.__class__.__name__:<17}: {n_layers:<4}layers')\n",
    "      if verbose and l.has_children:\n",
    "        layers = [x.__class__.__name__ for x in l.children()]\n",
    "        for il in layers:\n",
    "          print(\" \"*5,il)"
   ]
  },
  {
   "cell_type": "markdown",
   "metadata": {},
   "source": [
    "Let's first quickly go through `XResNet` series offered by `fastai2`\n",
    "\n",
    "```python\n",
    "def xresnet18 (pretrained=False, **kwargs): return _xresnet(pretrained, 1, [2, 2,  2, 2], **kwargs)\n",
    "```\n"
   ]
  },
  {
   "cell_type": "code",
   "execution_count": null,
   "metadata": {},
   "outputs": [
    {
     "name": "stdout",
     "output_type": "stream",
     "text": [
      "(0 ) ConvLayer        : 3   layers\n",
      "(1 ) ConvLayer        : 3   layers\n",
      "(2 ) ConvLayer        : 3   layers\n",
      "(3 ) MaxPool2d        : 1   layers\n",
      "(4 ) Sequential       : 2   layers\n",
      "(5 ) Sequential       : 2   layers\n",
      "(6 ) Sequential       : 2   layers\n",
      "(7 ) Sequential       : 2   layers\n",
      "(8 ) AdaptiveAvgPool2d: 1   layers\n",
      "(9 ) Flatten          : 1   layers\n",
      "(10) Dropout          : 1   layers\n",
      "(11) Linear           : 1   layers\n"
     ]
    }
   ],
   "source": [
    "arch_summary(xresnet18)"
   ]
  },
  {
   "cell_type": "markdown",
   "metadata": {},
   "source": [
    "Look at the Sequential layers from 4-7 all having two child layers, that's the meaning of `[2,2,2,2]` in the model definition. Let's go deeper and check what are these two children"
   ]
  },
  {
   "cell_type": "code",
   "execution_count": null,
   "metadata": {},
   "outputs": [
    {
     "name": "stdout",
     "output_type": "stream",
     "text": [
      "(0 ) ConvLayer        : 3   layers\n",
      "      Conv2d\n",
      "      BatchNorm2d\n",
      "      ReLU\n",
      "(1 ) ConvLayer        : 3   layers\n",
      "      Conv2d\n",
      "      BatchNorm2d\n",
      "      ReLU\n",
      "(2 ) ConvLayer        : 3   layers\n",
      "      Conv2d\n",
      "      BatchNorm2d\n",
      "      ReLU\n",
      "(3 ) MaxPool2d        : 1   layers\n",
      "(4 ) Sequential       : 2   layers\n",
      "      ResBlock\n",
      "      ResBlock\n",
      "(5 ) Sequential       : 2   layers\n",
      "      ResBlock\n",
      "      ResBlock\n",
      "(6 ) Sequential       : 2   layers\n",
      "      ResBlock\n",
      "      ResBlock\n",
      "(7 ) Sequential       : 2   layers\n",
      "      ResBlock\n",
      "      ResBlock\n",
      "(8 ) AdaptiveAvgPool2d: 1   layers\n",
      "(9 ) Flatten          : 1   layers\n",
      "(10) Dropout          : 1   layers\n",
      "(11) Linear           : 1   layers\n"
     ]
    }
   ],
   "source": [
    "arch_summary(xresnet18,verbose=True)"
   ]
  },
  {
   "cell_type": "markdown",
   "metadata": {},
   "source": [
    "hmm... those are indeed `ResBlocks`, but what is `ResBlock`?"
   ]
  },
  {
   "cell_type": "code",
   "execution_count": null,
   "metadata": {},
   "outputs": [
    {
     "name": "stdout",
     "output_type": "stream",
     "text": [
      "(0 ) Sequential       : 2   layers\n",
      "      ConvLayer\n",
      "      ConvLayer\n",
      "(1 ) Sequential       : 0   layers\n",
      "(2 ) ReLU             : 1   layers\n"
     ]
    }
   ],
   "source": [
    "arch_summary(xresnet18,[4,0],verbose=True)"
   ]
  },
  {
   "cell_type": "markdown",
   "metadata": {},
   "source": [
    "![Residual Block](data:image/png;base64,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)"
   ]
  },
  {
   "cell_type": "markdown",
   "metadata": {},
   "source": [
    "According to [ResNet](https://arxiv.org/abs/1512.03385), we should have two weight layers, an identity (skip-connection) block and activation (ReLU), which is exactly `ResBlock` implements, with many [tweaks](https://arxiv.org/abs/1812.01187) introduced in the following years to improve the performance. A `ConvLayer` in fastai is Conv2D --> BatchNorm --> activation (ReLU). We'll have exact same architecture but with more \"groups\" of `ResBlock`, such as\n",
    "```python\n",
    "def xresnet34 (pretrained=False, **kwargs): return _xresnet(pretrained, 1, [3, 4,  6, 3], **kwargs)\n",
    "def xresnet50 (pretrained=False, **kwargs): return _xresnet(pretrained, 4, [3, 4,  6, 3], **kwargs)\n",
    "def xresnet101(pretrained=False, **kwargs): return _xresnet(pretrained, 4, [3, 4, 23, 3], **kwargs)\n",
    "def xresnet152(pretrained=False, **kwargs): return _xresnet(pretrained, 4, [3, 8, 36, 3], **kwargs)\n",
    "```\n",
    "\n",
    "`xresnet34` will have 4 groups having `[3, 4, 6, 3]` no. of `ResBlocks` and so on. We do get other variants of these base architecutures but as they're still experimental, I'll skip them for now. Now let's have a look at some architectures from torchvision."
   ]
  },
  {
   "cell_type": "code",
   "execution_count": null,
   "metadata": {},
   "outputs": [],
   "source": []
  }
 ],
 "metadata": {
  "kernelspec": {
   "display_name": "Python 3",
   "language": "python",
   "name": "python3"
  }
 },
 "nbformat": 4,
 "nbformat_minor": 4
}
