{
 "cells": [
  {
   "cell_type": "markdown",
   "metadata": {},
   "source": [
    "# Applications\n",
    "\n",
    "> Deep Learning Application notebooks"
   ]
  },
  {
   "cell_type": "markdown",
   "metadata": {},
   "source": [
    "## Classification\n",
    "- [AlexNet-Cifar10](https://kshitij09.github.io/fast_impl/AlexNet_Cifar10)\n",
    "- [NiN-Cifar10](https://kshitij09.github.io/fast_impl/NiN_Cifar10)"
   ]
  },
  {
   "cell_type": "code",
   "execution_count": null,
   "metadata": {},
   "outputs": [],
   "source": []
  }
 ],
 "metadata": {
  "kernelspec": {
   "display_name": "Python 3.7.6 64-bit ('fastai2': conda)",
   "language": "python",
   "name": "python37664bitfastai2condaf3e9781124be45a78083b472977e8c5c"
  }
 },
 "nbformat": 4,
 "nbformat_minor": 4
}
