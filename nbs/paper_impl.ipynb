{
 "cells": [
  {
   "cell_type": "markdown",
   "metadata": {},
   "source": [
    "# Paper Implementations\n",
    "\n",
    "> List of papers implemented using fastai2"
   ]
  },
  {
   "cell_type": "markdown",
   "metadata": {},
   "source": [
    "- [CAM](https://kshitij09.github.io/fast_impl/visualize.cam)\n",
    "- [Grad-CAM](https://kshitij09.github.io/fast_impl/visualize.grad_cam)"
   ]
  },
  {
   "cell_type": "code",
   "execution_count": null,
   "metadata": {},
   "outputs": [],
   "source": []
  }
 ],
 "metadata": {
  "kernelspec": {
   "display_name": "Python 3.7.6 64-bit ('fastai2': conda)",
   "language": "python",
   "name": "python37664bitfastai2condaf3e9781124be45a78083b472977e8c5c"
  }
 },
 "nbformat": 4,
 "nbformat_minor": 4
}
