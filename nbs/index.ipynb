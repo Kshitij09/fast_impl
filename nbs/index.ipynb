{
 "cells": [
  {
   "cell_type": "markdown",
   "metadata": {},
   "source": [
    "# Fast Implementations\n",
    "\n",
    "> Fastai(v2) has become de facto high level API for Pytorch and is highly engineered to bring your research into proudction. This library is built on top of fastai(v2) to support my implementations. "
   ]
  },
  {
   "cell_type": "markdown",
   "metadata": {},
   "source": [
    "[![PyPI version](https://badge.fury.io/py/fast-impl.svg)](https://badge.fury.io/py/fast-impl)\n",
    "\n",
    "The github [repository](https://github.com/Kshitij09/fast_impl/) holds application notebooks.\n",
    "\n",
    "# Installation\n",
    "## latest release\n",
    "```shell\n",
    "pip install fast-impl\n",
    "```\n",
    "## From git repository (for changes not released yet)\n",
    "```shell\n",
    "pip install git+https://github.com/Kshitij09/fast_impl\n",
    "```"
   ]
  }
 ],
 "metadata": {
  "kernelspec": {
   "display_name": "Python 3",
   "language": "python",
   "name": "python3"
  }
 },
 "nbformat": 4,
 "nbformat_minor": 4
}
