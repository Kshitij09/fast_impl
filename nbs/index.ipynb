{
 "cells": [
  {
   "cell_type": "markdown",
   "metadata": {},
   "source": [
    "# Fast Implementations\n",
    "\n",
    "> Fastai(v2) has become de facto high level API for Pytorch and is highly engineered to bring your research into proudction. This repository aims to serve the starting point for several deep learning applications."
   ]
  }
 ],
 "metadata": {
  "kernelspec": {
   "display_name": "Python 3",
   "language": "python",
   "name": "python3"
  }
 },
 "nbformat": 4,
 "nbformat_minor": 4
}
